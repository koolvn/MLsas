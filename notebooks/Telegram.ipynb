{
 "cells": [
  {
   "cell_type": "code",
   "execution_count": 1,
   "metadata": {},
   "outputs": [],
   "source": [
    "import pandas as pd"
   ]
  },
  {
   "cell_type": "code",
   "execution_count": 44,
   "metadata": {},
   "outputs": [
    {
     "data": {
      "text/html": [
       "<div>\n",
       "<style scoped>\n",
       "    .dataframe tbody tr th:only-of-type {\n",
       "        vertical-align: middle;\n",
       "    }\n",
       "\n",
       "    .dataframe tbody tr th {\n",
       "        vertical-align: top;\n",
       "    }\n",
       "\n",
       "    .dataframe thead th {\n",
       "        text-align: right;\n",
       "    }\n",
       "</style>\n",
       "<table border=\"1\" class=\"dataframe\">\n",
       "  <thead>\n",
       "    <tr style=\"text-align: right;\">\n",
       "      <th></th>\n",
       "      <th>id</th>\n",
       "      <th>username</th>\n",
       "      <th>first_name</th>\n",
       "      <th>last_name</th>\n",
       "      <th>language_code</th>\n",
       "      <th>is_bot</th>\n",
       "      <th>link_source</th>\n",
       "    </tr>\n",
       "  </thead>\n",
       "  <tbody>\n",
       "    <tr>\n",
       "      <th>0</th>\n",
       "      <td>208470137</td>\n",
       "      <td>Vladimir</td>\n",
       "      <td>None</td>\n",
       "      <td>None</td>\n",
       "      <td>ru</td>\n",
       "      <td>False</td>\n",
       "      <td>None</td>\n",
       "    </tr>\n",
       "    <tr>\n",
       "      <th>1</th>\n",
       "      <td>208470138</td>\n",
       "      <td>Vladimir</td>\n",
       "      <td>None</td>\n",
       "      <td>None</td>\n",
       "      <td>ru</td>\n",
       "      <td>False</td>\n",
       "      <td>None</td>\n",
       "    </tr>\n",
       "  </tbody>\n",
       "</table>\n",
       "</div>"
      ],
      "text/plain": [
       "          id  username first_name last_name language_code is_bot link_source\n",
       "0  208470137  Vladimir       None      None            ru  False        None\n",
       "1  208470138  Vladimir       None      None            ru  False        None"
      ]
     },
     "execution_count": 44,
     "metadata": {},
     "output_type": "execute_result"
    }
   ],
   "source": [
    "start = pd.DataFrame(columns=['id', 'username', 'first_name', 'last_name', 'language_code', 'is_bot', 'link_source'])\n",
    "start = start.append({'id': 208470137,\n",
    "              'username': 'Vladimir',\n",
    "              'first_name': None,\n",
    "              'last_name': None,\n",
    "              'language_code': 'ru',\n",
    "              'is_bot': False,\n",
    "              'link_source': None}, ignore_index=True)\n",
    "start = start.append({'id': 208470138,\n",
    "              'username': 'Vladimir',\n",
    "              'first_name': None,\n",
    "              'last_name': None,\n",
    "              'language_code': 'ru',\n",
    "              'is_bot': False,\n",
    "              'link_source': None}, ignore_index=True)\n",
    "start.to_csv('tg_users.csv', index_label='index')\n",
    "start"
   ]
  },
  {
   "cell_type": "code",
   "execution_count": 45,
   "metadata": {},
   "outputs": [
    {
     "data": {
      "text/plain": [
       "[208470137, 208470138]"
      ]
     },
     "execution_count": 45,
     "metadata": {},
     "output_type": "execute_result"
    }
   ],
   "source": [
    "users_list = pd.read_csv('tg_users.csv', index_col='index')['id']\n",
    "list(users_list)"
   ]
  },
  {
   "cell_type": "code",
   "execution_count": 38,
   "metadata": {},
   "outputs": [],
   "source": [
    "def add_start_user(message):\n",
    "    \"\"\" Записывает данные пользователей, нажавших старт \"\"\"\n",
    "\n",
    "    user_details = message.json['from']\n",
    "    user_details['link_source'] = message.text.split()[1] if len(message.text.split()) > 1 else None\n",
    "    start_storage = pd.read_csv('tg_users.csv', index_col='index')\n",
    "    users_list = list(start_storage['id'])\n",
    "    print(user_details)\n",
    "    \n",
    "    if 'first_name' not in user_details.keys():\n",
    "        user_details['first_name'] = None\n",
    "\n",
    "    if 'last_name' not in user_details.keys():\n",
    "        user_details['last_name'] = None\n",
    "\n",
    "    if 'username' not in user_details.keys():\n",
    "        user_details['username'] = None\n",
    "\n",
    "    if 'language_code' not in user_details.keys():\n",
    "        user_details['language_code'] = None\n",
    "\n",
    "    if 'is_bot' not in user_details.keys():\n",
    "        user_details['is_bot'] = False\n",
    "\n",
    "    if 'id' not in user_details.keys():\n",
    "        user_details['id'] = None\n",
    "\n",
    "    if message.from_user.id not in users_list:\n",
    "        try:\n",
    "            start_storage = start_storage.append(user_details, ignore_index=True)\n",
    "            start_storage.to_csv('tg_users.csv', index_label='index')\n",
    "            \n",
    "        except Exception as e:\n",
    "            print(e)\n",
    "            return 'Ошибка! Не могу записать юзера!'\n",
    "        return 'New start click was heard'\n",
    "\n",
    "    else:\n",
    "        return 'Not a new user clicked start'"
   ]
  },
  {
   "cell_type": "code",
   "execution_count": 46,
   "metadata": {},
   "outputs": [
    {
     "data": {
      "text/html": [
       "<div>\n",
       "<style scoped>\n",
       "    .dataframe tbody tr th:only-of-type {\n",
       "        vertical-align: middle;\n",
       "    }\n",
       "\n",
       "    .dataframe tbody tr th {\n",
       "        vertical-align: top;\n",
       "    }\n",
       "\n",
       "    .dataframe thead th {\n",
       "        text-align: right;\n",
       "    }\n",
       "</style>\n",
       "<table border=\"1\" class=\"dataframe\">\n",
       "  <thead>\n",
       "    <tr style=\"text-align: right;\">\n",
       "      <th></th>\n",
       "      <th>id</th>\n",
       "      <th>username</th>\n",
       "      <th>first_name</th>\n",
       "      <th>last_name</th>\n",
       "      <th>language_code</th>\n",
       "      <th>is_bot</th>\n",
       "      <th>link_source</th>\n",
       "    </tr>\n",
       "    <tr>\n",
       "      <th>index</th>\n",
       "      <th></th>\n",
       "      <th></th>\n",
       "      <th></th>\n",
       "      <th></th>\n",
       "      <th></th>\n",
       "      <th></th>\n",
       "      <th></th>\n",
       "    </tr>\n",
       "  </thead>\n",
       "  <tbody>\n",
       "    <tr>\n",
       "      <th>0</th>\n",
       "      <td>208470137</td>\n",
       "      <td>kulyashov</td>\n",
       "      <td>Vladimir</td>\n",
       "      <td>Kulyashov</td>\n",
       "      <td>ru</td>\n",
       "      <td>False</td>\n",
       "      <td>NaN</td>\n",
       "    </tr>\n",
       "  </tbody>\n",
       "</table>\n",
       "</div>"
      ],
      "text/plain": [
       "              id   username first_name  last_name language_code  is_bot  \\\n",
       "index                                                                     \n",
       "0      208470137  kulyashov   Vladimir  Kulyashov            ru   False   \n",
       "\n",
       "       link_source  \n",
       "index               \n",
       "0              NaN  "
      ]
     },
     "execution_count": 46,
     "metadata": {},
     "output_type": "execute_result"
    }
   ],
   "source": [
    "pd.read_csv('../tg_users.csv', index_col='index')"
   ]
  }
 ],
 "metadata": {
  "kernelspec": {
   "display_name": "Python 3",
   "language": "python",
   "name": "python3"
  },
  "language_info": {
   "codemirror_mode": {
    "name": "ipython",
    "version": 3
   },
   "file_extension": ".py",
   "mimetype": "text/x-python",
   "name": "python",
   "nbconvert_exporter": "python",
   "pygments_lexer": "ipython3",
   "version": "3.7.4"
  }
 },
 "nbformat": 4,
 "nbformat_minor": 2
}
