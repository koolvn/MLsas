{
 "cells": [
  {
   "cell_type": "code",
   "execution_count": 77,
   "metadata": {},
   "outputs": [
    {
     "name": "stdout",
     "output_type": "stream",
     "text": [
      "watson.ipynb  Yandex_API.ipynb\r\n"
     ]
    }
   ],
   "source": [
    "!ls"
   ]
  },
  {
   "cell_type": "code",
   "execution_count": 87,
   "metadata": {
    "scrolled": true
   },
   "outputs": [],
   "source": [
    "PATH_TO_DATA = './'\n",
    "\n",
    "def text_to_speech(text='Hello world', output_filename='hello_world.ogg', params=None, output_path=PATH_TO_DATA):\n",
    "    \"\"\" Принимает на вход текст и имя файла, в который будет сохранён результат синтеза\n",
    "        так же можно передать любые параметры API Yandex'а в форме словаря\n",
    "    \"\"\"\n",
    "    auth = \"AQVN0E-Zv9fYT3gJA5Dzq7SkP_FaqP-sMPDvy27u\"\n",
    "    url = 'https://tts.api.cloud.yandex.net/speech/v1/tts:synthesize'\n",
    "    payload = {'lang': 'ru-RU', 'text': text}\n",
    "    if params:\n",
    "        payload.update(params)\n",
    "\n",
    "    with requests.post(url,\n",
    "                       headers={'Authorization': 'Api-Key ' + auth},\n",
    "                       data=payload, stream=True\n",
    "                       ) as resp:\n",
    "        if resp.status_code != 200:\n",
    "            raise RuntimeError(\"Invalid response received: code: %d, message: %s\" % (resp.status_code, resp.text))\n",
    "\n",
    "        with open(output_path + 'tts_' + output_filename, \"wb+\") as f:\n",
    "            f.write(resp.content)\n",
    "\n",
    "    output_txt_filename = output_filename.split('.')[0] + '.txt'\n",
    "    with open(output_path + 'tts_' + output_txt_filename, 'w+') as text_file:\n",
    "        text_file.write(text)\n",
    "\n",
    "    return output_filename"
   ]
  },
  {
   "cell_type": "code",
   "execution_count": 91,
   "metadata": {},
   "outputs": [
    {
     "data": {
      "text/plain": [
       "'hello_world.ogg'"
      ]
     },
     "execution_count": 91,
     "metadata": {},
     "output_type": "execute_result"
    }
   ],
   "source": [
    "text_to_speech(params={'voice': 'alena'})"
   ]
  },
  {
   "cell_type": "code",
   "execution_count": 92,
   "metadata": {},
   "outputs": [
    {
     "name": "stdout",
     "output_type": "stream",
     "text": [
      "tts_hello_world.ogg  tts_hello_world.txt  watson.ipynb\tYandex_API.ipynb\r\n"
     ]
    }
   ],
   "source": [
    "!ls"
   ]
  },
  {
   "cell_type": "markdown",
   "metadata": {},
   "source": [
    "voice|language|gender\n",
    "--- | --- | ---\n",
    "oksana|\tru-RU|\tЖ\n",
    "jane|\tru-RU|\tЖ\n",
    "omazh|\tru-RU|\tЖ\n",
    "zahar|\tru-RU|\tM\n",
    "ermil|\tru-RU|\tM\n",
    "silaerkan|\ttr-TR|\tЖ\n",
    "erkanyavas|\ttr-TR|\tM\n",
    "alyss|\ten-US|\tЖ\n",
    "nick|\ten-US|\tM\n",
    "**alena**|\tru-RU|\tЖ\n",
    "**filipp**|\tru-RU|\tM"
   ]
  },
  {
   "cell_type": "code",
   "execution_count": 106,
   "metadata": {},
   "outputs": [],
   "source": [
    "import re\n",
    "\n",
    "rus = re.compile(\"[а-яА-Я]+\")  # нужно для проверки языка сообщения.\n",
    "ru_str = 'яблоко капуста'\n",
    "eng_str = 'Starting'"
   ]
  },
  {
   "cell_type": "code",
   "execution_count": 107,
   "metadata": {},
   "outputs": [],
   "source": [
    "if rus.match(eng_str):\n",
    "    print(\"!!!\")"
   ]
  }
 ],
 "metadata": {
  "kernelspec": {
   "display_name": "Python 3",
   "language": "python",
   "name": "python3"
  },
  "language_info": {
   "codemirror_mode": {
    "name": "ipython",
    "version": 3
   },
   "file_extension": ".py",
   "mimetype": "text/x-python",
   "name": "python",
   "nbconvert_exporter": "python",
   "pygments_lexer": "ipython3",
   "version": "3.7.4"
  }
 },
 "nbformat": 4,
 "nbformat_minor": 2
}
